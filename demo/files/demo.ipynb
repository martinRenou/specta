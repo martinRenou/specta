{
 "cells": [
  {
   "cell_type": "code",
   "execution_count": null,
   "id": "c7b9a9df",
   "metadata": {
    "vscode": {
     "languageId": "plaintext"
    }
   },
   "outputs": [],
   "source": [
    "print('hello from notebook')"
   ]
  }
 ],
 "metadata": {
  "language_info": {
   "name": "python"
  }
 },
 "nbformat": 4,
 "nbformat_minor": 5
}
